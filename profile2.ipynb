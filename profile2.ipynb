{
 "metadata": {
  "name": "",
  "signature": "sha256:3d58319058aba5638f7931330c39ac7d64f10a4c5c4bc84beffae65c0db1b02b"
 },
 "nbformat": 3,
 "nbformat_minor": 0,
 "worksheets": [
  {
   "cells": [
    {
     "cell_type": "code",
     "collapsed": false,
     "input": [
      "import numpy as np\n",
      "from matplotlib import pyplot"
     ],
     "language": "python",
     "metadata": {},
     "outputs": [],
     "prompt_number": 9
    },
    {
     "cell_type": "code",
     "collapsed": false,
     "input": [
      "x = np.random.random(10000)\n",
      "y = 2 * x + 1 + np.random.random(x.size) * 0.5\n",
      "xedges = np.linspace(0, 1, 10 + 1)"
     ],
     "language": "python",
     "metadata": {},
     "outputs": [],
     "prompt_number": 10
    },
    {
     "cell_type": "code",
     "collapsed": false,
     "input": [
      "def profile(x, y, xedges):\n",
      "    indexes = np.digitize(x, xedges)\n",
      "    errs, means = [], []\n",
      "    for ibin in xrange(1, len(xedges)):\n",
      "        ymasked = y[indexes == ibin]\n",
      "        means.append(np.mean(ymasked))\n",
      "        errs.append(np.std(ymasked) / np.sqrt(len(ymasked)))\n",
      "    centers = 0.5 * (xedges[1:] + xedges[:-1])\n",
      "    return centers, np.array(means), np.array(errs)"
     ],
     "language": "python",
     "metadata": {},
     "outputs": [],
     "prompt_number": 11
    },
    {
     "cell_type": "code",
     "collapsed": false,
     "input": [
      "from egammaMVACalibUtils import Estimators as E\n",
      "from egammaMVACalibUtils.performanceTools import binData2 as binData\n",
      "\n",
      "def profile2(x, y, xedges):\n",
      "  indexes = np.digitize(x, xedges)\n",
      "  binnedData = binData(y, [xedges], [indexes])\n",
      "  means, errs = np.vectorize(E.mean)(binnedData)\n",
      "  centers = 0.5 * (xedges[1:] + xedges[:-1])\n",
      "  return centers, means, errs"
     ],
     "language": "python",
     "metadata": {},
     "outputs": [],
     "prompt_number": 12
    },
    {
     "cell_type": "code",
     "collapsed": false,
     "input": [
      "%timeit profile(x, y, xedges)\n",
      "%timeit profile2(x, y, xedges)"
     ],
     "language": "python",
     "metadata": {},
     "outputs": [
      {
       "output_type": "stream",
       "stream": "stdout",
       "text": [
        "100 loops, best of 3: 2.42 ms per loop\n",
        "100 loops, best of 3: 9.64 ms per loop"
       ]
      },
      {
       "output_type": "stream",
       "stream": "stdout",
       "text": [
        "\n"
       ]
      }
     ],
     "prompt_number": 13
    },
    {
     "cell_type": "code",
     "collapsed": false,
     "input": [],
     "language": "python",
     "metadata": {},
     "outputs": [],
     "prompt_number": 13
    }
   ],
   "metadata": {}
  }
 ]
}