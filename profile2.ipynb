{
 "metadata": {
  "name": "",
  "signature": "sha256:acd30935b412e9e74e44d09b84eb919b56de32a73d0c9adc1ea4e38bbf9e6e63"
 },
 "nbformat": 3,
 "nbformat_minor": 0,
 "worksheets": [
  {
   "cells": [
    {
     "cell_type": "code",
     "collapsed": false,
     "input": [
      "import numpy as np\n",
      "from matplotlib import pyplot"
     ],
     "language": "python",
     "metadata": {},
     "outputs": [],
     "prompt_number": 28
    },
    {
     "cell_type": "code",
     "collapsed": false,
     "input": [
      "def getData(n=10000, nbins=10):\n",
      "    x = np.random.random(int(n))\n",
      "    y = 2 * x + 1 + np.random.random(x.size) * 0.5\n",
      "    xedges = np.linspace(0, 1, nbins + 1)\n",
      "    return x, y, xedges"
     ],
     "language": "python",
     "metadata": {},
     "outputs": [],
     "prompt_number": 29
    },
    {
     "cell_type": "code",
     "collapsed": false,
     "input": [
      "def profile(x, y, xedges):\n",
      "    indexes = np.digitize(x, xedges)\n",
      "    binnedData = []\n",
      "    errs, means = [], []\n",
      "    for ibin in xrange(1, len(xedges)):\n",
      "        ymasked = y[indexes == ibin]\n",
      "        binnedData.append(ymasked)\n",
      "        means.append(np.mean(ymasked))\n",
      "        errs.append(np.std(ymasked) / np.sqrt(len(ymasked)))\n",
      "    centers = 0.5 * (xedges[1:] + xedges[:-1])\n",
      "    return centers, np.array(means), np.array(errs)"
     ],
     "language": "python",
     "metadata": {},
     "outputs": [],
     "prompt_number": 30
    },
    {
     "cell_type": "code",
     "collapsed": false,
     "input": [
      "from egammaMVACalibUtils import Estimators as E\n",
      "from egammaMVACalibUtils.performanceTools import binData2 as binData\n",
      "\n",
      "def profile2(x, y, xedges):\n",
      "  indexes = np.digitize(x, xedges)\n",
      "  binnedData = binData(y, [xedges], [indexes])\n",
      "  means, errs = np.vectorize(E.mean)(binnedData)\n",
      "  centers = 0.5 * (xedges[1:] + xedges[:-1])\n",
      "  return centers, means, errs"
     ],
     "language": "python",
     "metadata": {},
     "outputs": [],
     "prompt_number": 31
    },
    {
     "cell_type": "code",
     "collapsed": false,
     "input": [
      "data =  getData(1e6, 100)\n",
      "%timeit profile(*data)\n",
      "%timeit profile2(*data)"
     ],
     "language": "python",
     "metadata": {},
     "outputs": [
      {
       "output_type": "stream",
       "stream": "stdout",
       "text": [
        "1 loops, best of 3: 224 ms per loop\n",
        "1 loops, best of 3: 617 ms per loop"
       ]
      },
      {
       "output_type": "stream",
       "stream": "stdout",
       "text": [
        "\n"
       ]
      }
     ],
     "prompt_number": 32
    }
   ],
   "metadata": {}
  }
 ]
}