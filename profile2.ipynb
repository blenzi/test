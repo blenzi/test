{
 "metadata": {
  "name": "",
  "signature": "sha256:2c1a46f370621e84d76c7a67ae02e4ab87c4aa421c3cd5e52a483deba31f1d2b"
 },
 "nbformat": 3,
 "nbformat_minor": 0,
 "worksheets": [
  {
   "cells": [
    {
     "cell_type": "code",
     "collapsed": false,
     "input": [
      "import numpy as np\n",
      "from matplotlib import pyplot"
     ],
     "language": "python",
     "metadata": {},
     "outputs": [],
     "prompt_number": 20
    },
    {
     "cell_type": "code",
     "collapsed": false,
     "input": [
      "def getData(n=10000, nbins=10):\n",
      "    x = np.random.random(int(n))\n",
      "    y = 2 * x + 1 + np.random.random(x.size) * 0.5\n",
      "    xedges = np.linspace(0, 1, nbins + 1)\n",
      "    return x, y, xedges"
     ],
     "language": "python",
     "metadata": {},
     "outputs": [],
     "prompt_number": 21
    },
    {
     "cell_type": "code",
     "collapsed": false,
     "input": [
      "def profile(x, y, xedges):\n",
      "    indexes = np.digitize(x, xedges)\n",
      "    binnedData = []\n",
      "    errs, means = [], []\n",
      "    for ibin in xrange(1, len(xedges)):\n",
      "        ymasked = y[indexes == ibin]\n",
      "        binnedData.append(ymasked)\n",
      "        means.append(np.mean(ymasked))\n",
      "        errs.append(np.std(ymasked) / np.sqrt(len(ymasked)))\n",
      "    centers = 0.5 * (xedges[1:] + xedges[:-1])\n",
      "    return centers, np.array(means), np.array(errs)"
     ],
     "language": "python",
     "metadata": {},
     "outputs": [],
     "prompt_number": 22
    },
    {
     "cell_type": "code",
     "collapsed": false,
     "input": [
      "from egammaMVACalibUtils import Estimators as E\n",
      "from egammaMVACalibUtils.performanceTools import binData2 as binData\n",
      "\n",
      "def profile2(x, y, xedges):\n",
      "  indexes = np.digitize(x, xedges)\n",
      "  binnedData = binData(y, [xedges], [indexes])\n",
      "  means, errs = np.vectorize(E.mean)(binnedData)\n",
      "  centers = 0.5 * (xedges[1:] + xedges[:-1])\n",
      "  return centers, means, errs"
     ],
     "language": "python",
     "metadata": {},
     "outputs": [],
     "prompt_number": 23
    },
    {
     "cell_type": "code",
     "collapsed": false,
     "input": [
      "data =  getData(1e6, 100)\n",
      "%timeit profile(*data)\n",
      "%timeit profile2(*data)"
     ],
     "language": "python",
     "metadata": {},
     "outputs": [
      {
       "output_type": "stream",
       "stream": "stdout",
       "text": [
        "1 loops, best of 3: 240 ms per loop\n",
        "1 loops, best of 3: 703 ms per loop"
       ]
      },
      {
       "output_type": "stream",
       "stream": "stdout",
       "text": [
        "\n"
       ]
      }
     ],
     "prompt_number": 25
    },
    {
     "cell_type": "code",
     "collapsed": false,
     "input": [],
     "language": "python",
     "metadata": {},
     "outputs": [
      {
       "metadata": {},
       "output_type": "display_data",
       "png": "[encoded data removed]",
       "text": [
        "<matplotlib.figure.Figure at 0x107a6fa50>"
       ]
      }
     ],
     "prompt_number": 27
    },
    {
     "cell_type": "code",
     "collapsed": false,
     "input": [],
     "language": "python",
     "metadata": {},
     "outputs": []
    }
   ],
   "metadata": {}
  }
 ]
}