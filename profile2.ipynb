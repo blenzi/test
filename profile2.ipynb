{
 "metadata": {
  "name": "",
  "signature": "sha256:cb65c2b696d1f5558046ab60dcc9e756ff873a4a8ad0f8f8197168670e3b7428"
 },
 "nbformat": 3,
 "nbformat_minor": 0,
 "worksheets": [
  {
   "cells": [
    {
     "cell_type": "code",
     "collapsed": false,
     "input": [
      "import numpy as np\n",
      "from matplotlib import pyplot"
     ],
     "language": "python",
     "metadata": {},
     "outputs": [],
     "prompt_number": 27
    },
    {
     "cell_type": "code",
     "collapsed": false,
     "input": [
      "def getData(n=10000, nbins=10):\n",
      "    x = np.random.random(int(n))\n",
      "    y = 2 * x + 1 + np.random.random(x.size) * 0.5\n",
      "    xedges = np.linspace(0, 1, nbins + 1)\n",
      "    return x, y, xedges"
     ],
     "language": "python",
     "metadata": {},
     "outputs": [],
     "prompt_number": 28
    },
    {
     "cell_type": "code",
     "collapsed": false,
     "input": [
      "def binData(x, y, xedges):\n",
      "    indexes = np.digitize(x, xedges)\n",
      "    binnedData = []\n",
      "    for ibin in xrange(len(xedges)+1):\n",
      "        ymasked = y[indexes == ibin]\n",
      "        binnedData.append(ymasked)\n",
      "    return np.array(binnedData, dtype=object)\n",
      "\n",
      "def profile(binnedData):\n",
      "    return map(np.mean, binnedData), [1.*np.std(data) / np.sqrt(len(data)) for data in binnedData]\n"
     ],
     "language": "python",
     "metadata": {},
     "outputs": [],
     "prompt_number": 29
    },
    {
     "cell_type": "code",
     "collapsed": false,
     "input": [
      "from egammaMVACalibUtils import Estimators as E\n",
      "from egammaMVACalibUtils.performanceTools import binData2\n",
      "profile2 = np.vectorize(E.mean)"
     ],
     "language": "python",
     "metadata": {},
     "outputs": [],
     "prompt_number": 30
    },
    {
     "cell_type": "code",
     "collapsed": false,
     "input": [
      "data =  getData(1e5, 100)\n",
      "%timeit binData(*data)\n",
      "%timeit binData2(data[0], [data[1]] , [data[2]])"
     ],
     "language": "python",
     "metadata": {},
     "outputs": [
      {
       "output_type": "stream",
       "stream": "stdout",
       "text": [
        "10 loops, best of 3: 17 ms per loop\n",
        "10 loops, best of 3: 155 ms per loop"
       ]
      },
      {
       "output_type": "stream",
       "stream": "stdout",
       "text": [
        "\n"
       ]
      }
     ],
     "prompt_number": 35
    },
    {
     "cell_type": "code",
     "collapsed": false,
     "input": [
      "binnedData = binData(*data)\n",
      "#binnedData = binData2(data[0], [data[1]] , [data[2]])\n",
      "%timeit profile(binnedData)\n",
      "%timeit profile2(binnedData)"
     ],
     "language": "python",
     "metadata": {},
     "outputs": [
      {
       "output_type": "stream",
       "stream": "stdout",
       "text": [
        "100 loops, best of 3: 4.91 ms per loop\n",
        "100 loops, best of 3: 5.01 ms per loop"
       ]
      },
      {
       "output_type": "stream",
       "stream": "stdout",
       "text": [
        "\n"
       ]
      }
     ],
     "prompt_number": 34
    },
    {
     "cell_type": "code",
     "collapsed": false,
     "input": [],
     "language": "python",
     "metadata": {},
     "outputs": [],
     "prompt_number": 32
    }
   ],
   "metadata": {}
  }
 ]
}